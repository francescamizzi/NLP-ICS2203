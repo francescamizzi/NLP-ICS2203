{
 "cells": [
  {
   "cell_type": "markdown",
   "metadata": {},
   "source": [
    "brm_001\n",
    "eyk_001\n",
    "lan_001\n",
    "roi_001\n",
    "sse_001"
   ]
  },
  {
   "cell_type": "code",
   "execution_count": 5,
   "metadata": {},
   "outputs": [],
   "source": [
    "import pandas as pd\n",
    "from sklearn.model_selection import train_test_split"
   ]
  },
  {
   "cell_type": "markdown",
   "metadata": {},
   "source": [
    "## Importing Dataset"
   ]
  },
  {
   "cell_type": "code",
   "execution_count": 22,
   "metadata": {},
   "outputs": [
    {
     "name": "stdout",
     "output_type": "stream",
     "text": [
      "    VowelPhoneme     Formant1     Formant2     Formant3\n",
      "0             IY   444.623659  2809.593757  3389.504115\n",
      "1             AE  1000.117362  1785.756909  2933.149666\n",
      "2             ER   718.361613  1985.049514  3149.517110\n",
      "3             IY   593.824486  2738.706465  3328.840620\n",
      "4             AE   986.417708  1805.294539  3080.968468\n",
      "..           ...          ...          ...          ...\n",
      "145           AE   972.530188  1606.190042  2666.531726\n",
      "146           ER   585.249896  1669.221268  2612.789513\n",
      "147           IY   319.691652  2357.731836  2820.143564\n",
      "148           AE   796.434301  1538.121814  3139.960398\n",
      "149           ER   499.570359  1534.045916  3047.250635\n",
      "\n",
      "[150 rows x 4 columns]\n"
     ]
    }
   ],
   "source": [
    "dataset = pd.read_csv(\"rawdata.csv\")\n",
    "dataset = dataset.drop(['SpeakerLabel'], axis = 1)\n",
    "dataset = dataset.drop(['Gender'], axis = 1)\n",
    "dataset = dataset.drop(['Word'], axis = 1)\n",
    "dataset = dataset.drop(['ClassNo'], axis = 1)\n",
    "dataset = dataset.drop(['Time'], axis = 1)\n",
    "print(dataset)\n",
    "\n",
    "data_matrix = dataset.drop(['VowelPhoneme'], axis = 1)\n",
    "data_labels = dataset['VowelPhoneme']"
   ]
  },
  {
   "cell_type": "markdown",
   "metadata": {},
   "source": [
    "## Splitting Dataset"
   ]
  },
  {
   "cell_type": "code",
   "execution_count": 39,
   "metadata": {},
   "outputs": [],
   "source": [
    "def new_dataset():\n",
    "    data_matrix = dataset.drop(['VowelPhoneme'], axis = 1)\n",
    "    data_labels = dataset['VowelPhoneme']\n",
    "    x_train, x_test, y_train, y_test = train_test_split(data_matrix, data_labels, test_size=0.25, shuffle=True)\n",
    "    return x_train, x_test, y_train, y_test"
   ]
  },
  {
   "cell_type": "code",
   "execution_count": 43,
   "metadata": {},
   "outputs": [],
   "source": [
    "data_train, data_test, label_train, label_test = new_dataset()"
   ]
  },
  {
   "cell_type": "code",
   "execution_count": null,
   "metadata": {},
   "outputs": [],
   "source": []
  },
  {
   "cell_type": "code",
   "execution_count": null,
   "metadata": {},
   "outputs": [],
   "source": []
  }
 ],
 "metadata": {
  "kernelspec": {
   "display_name": "Python 3",
   "language": "python",
   "name": "python3"
  },
  "language_info": {
   "codemirror_mode": {
    "name": "ipython",
    "version": 3
   },
   "file_extension": ".py",
   "mimetype": "text/x-python",
   "name": "python",
   "nbconvert_exporter": "python",
   "pygments_lexer": "ipython3",
   "version": "3.8.5"
  }
 },
 "nbformat": 4,
 "nbformat_minor": 4
}
