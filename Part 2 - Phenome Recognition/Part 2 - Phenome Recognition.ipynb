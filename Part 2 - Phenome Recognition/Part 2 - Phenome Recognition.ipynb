{
 "cells": [
  {
   "cell_type": "markdown",
   "metadata": {},
   "source": [
    "brm_001\n",
    "eyk_001\n",
    "lan_001\n",
    "roi_001\n",
    "sse_001"
   ]
  },
  {
   "cell_type": "code",
   "execution_count": 53,
   "metadata": {},
   "outputs": [],
   "source": [
    "import pandas as pd\n",
    "from sklearn.model_selection import train_test_split\n",
    "from sklearn.neighbors import NearestNeighbors\n",
    "from sklearn.model_selection import GridSearchCV\n",
    "from sklearn.model_selection import RandomizedSearchCV\n",
    "import matplotlib.pyplot as plt\n",
    "from datetime import datetime\n",
    "from sklearn import neighbors\n",
    "from sklearn import metrics\n",
    "import numpy as np\n",
    "import itertools"
   ]
  },
  {
   "cell_type": "markdown",
   "metadata": {},
   "source": [
    "## Importing Dataset"
   ]
  },
  {
   "cell_type": "code",
   "execution_count": 54,
   "metadata": {},
   "outputs": [
    {
     "name": "stdout",
     "output_type": "stream",
     "text": [
      "    VowelPhoneme     Formant1     Formant2     Formant3\n",
      "0             IY   444.623659  2809.593757  3389.504115\n",
      "1             AE  1000.117362  1785.756909  2933.149666\n",
      "2             ER   718.361613  1985.049514  3149.517110\n",
      "3             IY   593.824486  2738.706465  3328.840620\n",
      "4             AE   986.417708  1805.294539  3080.968468\n",
      "..           ...          ...          ...          ...\n",
      "145           AE   972.530188  1606.190042  2666.531726\n",
      "146           ER   585.249896  1669.221268  2612.789513\n",
      "147           IY   319.691652  2357.731836  2820.143564\n",
      "148           AE   796.434301  1538.121814  3139.960398\n",
      "149           ER   499.570359  1534.045916  3047.250635\n",
      "\n",
      "[150 rows x 4 columns]\n"
     ]
    }
   ],
   "source": [
    "dataset = pd.read_csv(\"rawdata.csv\")\n",
    "dataset = dataset.drop(['SpeakerLabel'], axis = 1)\n",
    "dataset = dataset.drop(['Gender'], axis = 1)\n",
    "dataset = dataset.drop(['Word'], axis = 1)\n",
    "dataset = dataset.drop(['ClassNo'], axis = 1)\n",
    "dataset = dataset.drop(['Time'], axis = 1)\n",
    "print(dataset)\n",
    "\n",
    "data_matrix = dataset.drop(['VowelPhoneme'], axis = 1)\n",
    "data_labels = dataset['VowelPhoneme']"
   ]
  },
  {
   "cell_type": "markdown",
   "metadata": {},
   "source": [
    "## Splitting Dataset"
   ]
  },
  {
   "cell_type": "code",
   "execution_count": 55,
   "metadata": {},
   "outputs": [],
   "source": [
    "def new_dataset():\n",
    "    data_matrix = dataset.drop(['VowelPhoneme'], axis = 1)\n",
    "    data_labels = dataset['VowelPhoneme']\n",
    "    x_train, x_test, y_train, y_test = train_test_split(data_matrix, data_labels, test_size=0.25, shuffle=True)\n",
    "    return x_train, x_test, y_train, y_test"
   ]
  },
  {
   "cell_type": "code",
   "execution_count": 56,
   "metadata": {},
   "outputs": [],
   "source": [
    "data_train, data_test, label_train, label_test = new_dataset()"
   ]
  },
  {
   "cell_type": "code",
   "execution_count": 88,
   "metadata": {},
   "outputs": [],
   "source": [
    "def perform_model(model, data_train, label_train, data_test, label_test, class_labels, cm_normalize=True, print_cm=True, cm_map=plt.cm.Greens):\n",
    "    # to store results at various phases\n",
    "    results = dict()\n",
    "    \n",
    "    # time at which model starts training\n",
    "    print('Training KNN model..')\n",
    "    model.fit(data_train, label_train)\n",
    "    \n",
    "    # predict test data\n",
    "    print('Predicting test data...')\n",
    "    y_pred = model.predict(data_test)\n",
    "    test_end_time = datetime.now()\n",
    "    results['predicted'] = y_pred\n",
    "    \n",
    "    \n",
    "    # confusion matrix\n",
    "    print('Generating confusion matrix...')\n",
    "    cm = metrics.confusion_matrix(label_test, y_pred)\n",
    "    results['confusion_matrix'] = cm\n",
    "    if print_cm:\n",
    "        print('-----------------------')\n",
    "        print('CONFUSION MATRIX')\n",
    "        print('\\n {}'.format(cm))\n",
    "    \n",
    "    # plot confusion matrix\n",
    "    plt.figure(figsize=(8,8))\n",
    "    plt.grid(b=False)\n",
    "    plot_confusion_matrix(cm, classes=class_labels, normalize=True, title='Normalized Confusion Matrix', cmap=cm_map)\n",
    "    plt.show()\n",
    "    \n",
    "    # calculate overall accuracty of the model\n",
    "    print('Calculating accuracy...')\n",
    "    accuracy = metrics.accuracy_score(y_true=label_test, y_pred=y_pred)\n",
    "    # store accuracy in results\n",
    "    results['accuracy'] = accuracy\n",
    "    print('-----------------------')\n",
    "    print('ACCURACY')\n",
    "    print('\\n      {}\\n\\n'.format(accuracy))\n",
    "    \n",
    "    \n",
    "    # add the trained model to the results\n",
    "    results['model'] = model\n",
    "    \n",
    "    return results"
   ]
  },
  {
   "cell_type": "code",
   "execution_count": 89,
   "metadata": {},
   "outputs": [],
   "source": [
    "def plot_confusion_matrix(cm, classes, normalize=False, title='Confusion Matrix', cmap=plt.cm.Blues):\n",
    "    if normalize:\n",
    "        cm = cm.astype('float') / cm.sum(axis=1)[:, np.newaxis]\n",
    "    \n",
    "    plt.imshow(cm, interpolation='nearest', cmap=cmap)\n",
    "    plt.title(title)\n",
    "    plt.colorbar()\n",
    "    tick_marks = np.arange(len(classes))\n",
    "    plt.xticks(tick_marks, classes, rotation=90)\n",
    "    plt.yticks(tick_marks, classes)\n",
    "    \n",
    "    fmt = '.2f' if normalize else 'd'\n",
    "    thresh = cm.max() / 2\n",
    "    \n",
    "    for i, j in itertools.product(range(cm.shape[0]), range(cm.shape[1])):\n",
    "        plt.text(j, i, format(cm[i, j], fmt), horizontalalignment=\"center\", color=\"white\" if cm[i, j] > thresh else \"black\")\n",
    "        \n",
    "    plt.tight_layout()\n",
    "    plt.ylabel('True Label')\n",
    "    plt.xlabel('Predicted Label')"
   ]
  },
  {
   "cell_type": "code",
   "execution_count": 90,
   "metadata": {},
   "outputs": [],
   "source": [
    "# function to print the gridsearch Attributes\n",
    "def print_grid_search_attributes(model):\n",
    "    # Estimator that gave highest score among all the estimators formed in GridSearch\n",
    "    print('-----------------------')\n",
    "    print('|    Best Estimator   |')\n",
    "    print('-----------------------')\n",
    "    print('\\n\\t{}\\n'.format(model.best_estimator_))\n",
    "    \n",
    "    # parameters that gave best results while performing grid search\n",
    "    print('-----------------------')\n",
    "    print('|   Best Parameters   |')\n",
    "    print('-----------------------')\n",
    "    print('\\tParameters of best estimator : \\n\\n\\t{}\\n'.format(model.best_params_))\n",
    "    \n",
    "    # number of cross validation splits\n",
    "    print('--------------------------------')\n",
    "    print('|  No of CrossValidation sets  |')\n",
    "    print('--------------------------------')\n",
    "    print('\\n\\tTotal number of cross validation sets: {}\\n'.format(model.n_splits_))\n",
    "    \n",
    "    # Average cross validated score of the best estimator, from the Grid Search\n",
    "    print('-----------------------')\n",
    "    print('|      Best Score     |')\n",
    "    print('-----------------------')\n",
    "    print('\\n\\tAverage Cross Validate scores of best estimator : \\n\\n\\t{}\\n'.format(model.best_score_))"
   ]
  },
  {
   "cell_type": "code",
   "execution_count": 91,
   "metadata": {},
   "outputs": [
    {
     "name": "stdout",
     "output_type": "stream",
     "text": [
      "Training KNN model..\n",
      "Fitting 5 folds for each of 30 candidates, totalling 150 fits\n"
     ]
    },
    {
     "name": "stderr",
     "output_type": "stream",
     "text": [
      "[Parallel(n_jobs=-1)]: Using backend LokyBackend with 16 concurrent workers.\n",
      "[Parallel(n_jobs=-1)]: Done  18 tasks      | elapsed:    0.0s\n"
     ]
    },
    {
     "name": "stdout",
     "output_type": "stream",
     "text": [
      "Predicting test data...\n",
      "Generating confusion matrix...\n",
      "-----------------------\n",
      "CONFUSION MATRIX\n",
      "\n",
      " [[ 9  0  0]\n",
      " [ 2 13  0]\n",
      " [ 0  0 14]]\n"
     ]
    },
    {
     "name": "stderr",
     "output_type": "stream",
     "text": [
      "[Parallel(n_jobs=-1)]: Done 150 out of 150 | elapsed:    0.1s finished\n"
     ]
    },
    {
     "data": {
      "image/png": "[encoded data removed]",
      "text/plain": [
       "<Figure size 576x576 with 2 Axes>"
      ]
     },
     "metadata": {
      "needs_background": "light"
     },
     "output_type": "display_data"
    },
    {
     "name": "stdout",
     "output_type": "stream",
     "text": [
      "Calculating accuracy...\n",
      "-----------------------\n",
      "ACCURACY\n",
      "\n",
      "      0.9473684210526315\n",
      "\n",
      "\n"
     ]
    }
   ],
   "source": [
    "knn_params = {'n_neighbors':[2,3,4,5,6], 'weights': ['uniform','distance'], 'algorithm': ['ball_tree', 'kd_tree','brute']}\n",
    "labels = ['IY', 'AE', 'ER']\n",
    "knn_kernel = neighbors.KNeighborsClassifier()\n",
    "knn_grid = GridSearchCV(knn_kernel, param_grid=knn_params, n_jobs=-1, verbose=1)\n",
    "knn_grid_results = perform_model(knn_grid, data_train, label_train, data_test, label_test,class_labels=labels)"
   ]
  },
  {
   "cell_type": "code",
   "execution_count": 67,
   "metadata": {},
   "outputs": [
    {
     "name": "stdout",
     "output_type": "stream",
     "text": [
      "-----------------------\n",
      "|    Best Estimator   |\n",
      "-----------------------\n",
      "\n",
      "\tKNeighborsClassifier(algorithm='ball_tree', weights='distance')\n",
      "\n",
      "-----------------------\n",
      "|   Best Parameters   |\n",
      "-----------------------\n",
      "\tParameters of best estimator : \n",
      "\n",
      "\t{'algorithm': 'ball_tree', 'n_neighbors': 5, 'weights': 'distance'}\n",
      "\n",
      "--------------------------------\n",
      "|  No of CrossValidation sets  |\n",
      "--------------------------------\n",
      "\n",
      "\tTotal number of cross validation sets: 5\n",
      "\n",
      "-----------------------\n",
      "|      Best Score     |\n",
      "-----------------------\n",
      "\n",
      "\tAverage Cross Validate scores of best estimator : \n",
      "\n",
      "\t0.9731225296442687\n",
      "\n"
     ]
    }
   ],
   "source": [
    "print_grid_search_attributes(knn_grid_results['model'])"
   ]
  },
  {
   "cell_type": "code",
   "execution_count": null,
   "metadata": {},
   "outputs": [],
   "source": []
  }
 ],
 "metadata": {
  "kernelspec": {
   "display_name": "Python 3",
   "language": "python",
   "name": "python3"
  },
  "language_info": {
   "codemirror_mode": {
    "name": "ipython",
    "version": 3
   },
   "file_extension": ".py",
   "mimetype": "text/x-python",
   "name": "python",
   "nbconvert_exporter": "python",
   "pygments_lexer": "ipython3",
   "version": "3.8.5"
  }
 },
 "nbformat": 4,
 "nbformat_minor": 4
}
