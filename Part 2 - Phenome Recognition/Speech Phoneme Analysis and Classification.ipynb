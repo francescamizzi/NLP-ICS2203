{
 "cells": [
  {
   "cell_type": "markdown",
   "metadata": {},
   "source": [
    "# Speech Phoneme Analysis and Classification"
   ]
  },
  {
   "cell_type": "markdown",
   "metadata": {},
   "source": [
    "#### Francesca Maria Mizzi - 118201L\n",
    "#### B.Sc in IT (Honours) (Artificial Intelligence)\n",
    "#### ICS2203 - Natural Language Processing: Methods and Tools"
   ]
  },
  {
   "cell_type": "markdown",
   "metadata": {},
   "source": [
    "The assigned task consisted of two parts:\n",
    " 1. Feature Extraction\n",
    " 2. Classifier\n",
    " \n",
    "The product of the first task can be found in the csv file \"rawdata.csv\" which holds the below data of 150 different speakers pronouncing my chosen 3 words **heed, had, heard**:\n",
    "\n",
    " 1. SpeakerLabel - the name of the speaker\n",
    " 2. Gender - the gender of the speaker (F = Female, M = Male)\n",
    " 3. Word - the word spoken (heed, had or heard)\n",
    " 4. VowelPhoneme - the vowel phoneme for the word according to ARPABET notation (IY, AE, ER)\n",
    " 5. ClassNo - the number assigned to each vowel phoneme (1 = IY, 2 = AE, 3 = ER)\n",
    " 6. Time - the timestamp where the formant values were extracted from (seconds)\n",
    " 7. Formant1 - the frequency of the first formant in Hz\n",
    " 8. Formant2 - the frequency of the second formant in Hz\n",
    " 9. Formant3 - the frequency of the third formant in Hz\n",
    " \n",
    "The 5 different accents I chose to use are:\n",
    " 1. brm_001\n",
    " 2. eyk_001\n",
    " 3. lan_001\n",
    " 4. roi_001\n",
    " 5. sse_001\n",
    "\n",
    "From each of the 5 chosen accents, 10 speakers were selected, 5 female and 5 female, resulting in a total 150 rows.\n",
    "\n",
    "The 3 formants for each speaker were found using \"Praat\", a free application which allowed me to choose a specific section of the wav file and find the formants of each vowel, averaging the output for a "
   ]
  },
  {
   "cell_type": "code",
   "execution_count": 53,
   "metadata": {},
   "outputs": [],
   "source": [
    "import pandas as pd\n",
    "from sklearn.model_selection import train_test_split\n",
    "from sklearn.neighbors import NearestNeighbors\n",
    "from sklearn.model_selection import GridSearchCV\n",
    "from sklearn.model_selection import RandomizedSearchCV\n",
    "import matplotlib.pyplot as plt\n",
    "from datetime import datetime\n",
    "from sklearn import neighbors\n",
    "from sklearn import metrics\n",
    "import numpy as np\n",
    "import itertools"
   ]
  },
  {
   "cell_type": "markdown",
   "metadata": {},
   "source": [
    "## Importing Dataset"
   ]
  },
  {
   "cell_type": "code",
   "execution_count": 54,
   "metadata": {},
   "outputs": [
    {
     "name": "stdout",
     "output_type": "stream",
     "text": [
      "    VowelPhoneme     Formant1     Formant2     Formant3\n",
      "0             IY   444.623659  2809.593757  3389.504115\n",
      "1             AE  1000.117362  1785.756909  2933.149666\n",
      "2             ER   718.361613  1985.049514  3149.517110\n",
      "3             IY   593.824486  2738.706465  3328.840620\n",
      "4             AE   986.417708  1805.294539  3080.968468\n",
      "..           ...          ...          ...          ...\n",
      "145           AE   972.530188  1606.190042  2666.531726\n",
      "146           ER   585.249896  1669.221268  2612.789513\n",
      "147           IY   319.691652  2357.731836  2820.143564\n",
      "148           AE   796.434301  1538.121814  3139.960398\n",
      "149           ER   499.570359  1534.045916  3047.250635\n",
      "\n",
      "[150 rows x 4 columns]\n"
     ]
    }
   ],
   "source": [
    "dataset = pd.read_csv(\"rawdata.csv\")\n",
    "dataset = dataset.drop(['SpeakerLabel'], axis = 1)\n",
    "dataset = dataset.drop(['Gender'], axis = 1)\n",
    "dataset = dataset.drop(['Word'], axis = 1)\n",
    "dataset = dataset.drop(['ClassNo'], axis = 1)\n",
    "dataset = dataset.drop(['Time'], axis = 1)\n",
    "print(dataset)\n",
    "\n",
    "data_matrix = dataset.drop(['VowelPhoneme'], axis = 1)\n",
    "data_labels = dataset['VowelPhoneme']"
   ]
  },
  {
   "cell_type": "markdown",
   "metadata": {},
   "source": [
    "## Splitting Dataset"
   ]
  },
  {
   "cell_type": "code",
   "execution_count": 92,
   "metadata": {},
   "outputs": [],
   "source": [
    "def new_dataset():\n",
    "    data_matrix = dataset.drop(['VowelPhoneme'], axis = 1)\n",
    "    data_labels = dataset['VowelPhoneme']\n",
    "    x_train, x_test, y_train, y_test = train_test_split(data_matrix, data_labels, test_size=0.25, shuffle=True)\n",
    "    return x_train, x_test, y_train, y_test"
   ]
  },
  {
   "cell_type": "code",
   "execution_count": 146,
   "metadata": {},
   "outputs": [],
   "source": [
    "def perform_model(model, data_train, label_train, data_test, label_test, class_labels, cm_normalize=True, print_cm=True, cm_map=plt.cm.Greens):\n",
    "    # to store results at various phases\n",
    "    results = dict()\n",
    "    \n",
    "    # time at which model starts training\n",
    "    print('Training KNN model..')\n",
    "    model.fit(data_train, label_train)\n",
    "    \n",
    "    # predict test data\n",
    "    print('Predicting test data...')\n",
    "    y_pred = model.predict(data_test)\n",
    "    test_end_time = datetime.now()\n",
    "    results['predicted'] = y_pred\n",
    "    \n",
    "    \n",
    "    # confusion matrix\n",
    "    print('Generating confusion matrix...')\n",
    "    cm = metrics.confusion_matrix(label_test, y_pred)\n",
    "    results['confusion_matrix'] = cm\n",
    "    if print_cm:\n",
    "        print('-----------------------')\n",
    "        print('CONFUSION MATRIX')\n",
    "        print('\\n {}'.format(cm))\n",
    "    \n",
    "    # plot confusion matrix\n",
    "    plt.figure(figsize=(8,8))\n",
    "    plt.grid(b=False)\n",
    "    confusion_matrix(cm, classes=class_labels, normalize=True, title='Normalized Confusion Matrix', cmap=cm_map)\n",
    "    plt.show()\n",
    "    \n",
    "    # calculate overall accuracty of the model\n",
    "    print('Calculating accuracy...')\n",
    "    accuracy = metrics.accuracy_score(y_true=label_test, y_pred=y_pred)\n",
    "    # store accuracy in results\n",
    "    results['accuracy'] = accuracy\n",
    "    print('-----------------------')\n",
    "    print('ACCURACY')\n",
    "    print('\\n      {}\\n\\n'.format(accuracy))\n",
    "    \n",
    "    \n",
    "    # add the trained model to the results\n",
    "    results['model'] = model\n",
    "    \n",
    "    return results"
   ]
  },
  {
   "cell_type": "code",
   "execution_count": 147,
   "metadata": {},
   "outputs": [],
   "source": [
    "def confusion_matrix(cm, classes, normalize=False, title='Confusion Matrix', cmap=plt.cm.Blues):\n",
    "    if normalize:\n",
    "        cm = cm.astype('float') / cm.sum(axis=1)[:, np.newaxis]\n",
    "    \n",
    "    plt.imshow(cm, interpolation='nearest', cmap='RdPu')\n",
    "    plt.title(title)\n",
    "    plt.colorbar()\n",
    "    tick_marks = np.arange(len(classes))\n",
    "    plt.xticks(tick_marks, classes, rotation=90)\n",
    "    plt.yticks(tick_marks, classes)\n",
    "    \n",
    "    fmt = '.2f' if normalize else 'd'\n",
    "    thresh = cm.max() / 2\n",
    "    \n",
    "    for i, j in itertools.product(range(cm.shape[0]), range(cm.shape[1])):\n",
    "        plt.text(j, i, format(cm[i, j], fmt), horizontalalignment=\"center\", color=\"white\" if cm[i, j] > thresh else \"black\")\n",
    "        \n",
    "    plt.tight_layout()\n",
    "    plt.ylabel('True Label')\n",
    "    plt.xlabel('Predicted Label')"
   ]
  },
  {
   "cell_type": "code",
   "execution_count": 148,
   "metadata": {},
   "outputs": [],
   "source": [
    "def new_trial(n):\n",
    "    data_train, data_test, label_train, label_test = new_dataset()\n",
    "    knn_params = {'n_neighbors':[n], 'weights': ['uniform','distance'], 'algorithm': ['ball_tree', 'kd_tree','brute']}\n",
    "    labels = ['IY', 'AE', 'ER']\n",
    "    knn_kernel = neighbors.KNeighborsClassifier()\n",
    "    knn_grid = GridSearchCV(knn_kernel, param_grid=knn_params, n_jobs=-1, verbose=1)\n",
    "    knn_grid_results = perform_model(knn_grid, data_train, label_train, data_test, label_test,class_labels=labels)"
   ]
  },
  {
   "cell_type": "code",
   "execution_count": 149,
   "metadata": {},
   "outputs": [
    {
     "name": "stdout",
     "output_type": "stream",
     "text": [
      "Training KNN model..\n",
      "Fitting 5 folds for each of 6 candidates, totalling 30 fits\n",
      "Predicting test data...\n",
      "Generating confusion matrix...\n",
      "-----------------------\n",
      "CONFUSION MATRIX\n",
      "\n",
      " [[ 6  1  0]\n",
      " [ 1 17  0]\n",
      " [ 0  0 13]]\n"
     ]
    },
    {
     "name": "stderr",
     "output_type": "stream",
     "text": [
      "[Parallel(n_jobs=-1)]: Using backend LokyBackend with 16 concurrent workers.\n",
      "[Parallel(n_jobs=-1)]: Done  30 out of  30 | elapsed:    0.0s remaining:    0.0s\n",
      "[Parallel(n_jobs=-1)]: Done  30 out of  30 | elapsed:    0.0s finished\n"
     ]
    },
    {
     "data": {
      "image/png": "[encoded data removed]",
      "text/plain": [
       "<Figure size 576x576 with 2 Axes>"
      ]
     },
     "metadata": {
      "needs_background": "light"
     },
     "output_type": "display_data"
    },
    {
     "name": "stdout",
     "output_type": "stream",
     "text": [
      "Calculating accuracy...\n",
      "-----------------------\n",
      "ACCURACY\n",
      "\n",
      "      0.9473684210526315\n",
      "\n",
      "\n"
     ]
    }
   ],
   "source": [
    "new_trial(5)"
   ]
  },
  {
   "cell_type": "code",
   "execution_count": null,
   "metadata": {},
   "outputs": [],
   "source": []
  }
 ],
 "metadata": {
  "kernelspec": {
   "display_name": "Python 3",
   "language": "python",
   "name": "python3"
  },
  "language_info": {
   "codemirror_mode": {
    "name": "ipython",
    "version": 3
   },
   "file_extension": ".py",
   "mimetype": "text/x-python",
   "name": "python",
   "nbconvert_exporter": "python",
   "pygments_lexer": "ipython3",
   "version": "3.8.5"
  }
 },
 "nbformat": 4,
 "nbformat_minor": 4
}
