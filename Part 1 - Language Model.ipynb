{
 "cells": [
  {
   "cell_type": "markdown",
   "metadata": {},
   "source": [
    "## Part 1 - Extraction and Frequencies"
   ]
  },
  {
   "cell_type": "code",
   "execution_count": 5,
   "metadata": {},
   "outputs": [],
   "source": [
    "import nltk\n",
    "from nltk.collocations import *\n",
    "from datetime import datetime"
   ]
  },
  {
   "cell_type": "code",
   "execution_count": 6,
   "metadata": {},
   "outputs": [
    {
     "name": "stdout",
     "output_type": "stream",
     "text": [
      "extraction_time(HH::MM:SS:ms) - 0:00:00.470107\n",
      "\n",
      "\n"
     ]
    }
   ],
   "source": [
    "extraction_start = datetime.now()\n",
    "\n",
    "file = open(\"Corpus/maltese-1.txt\")\n",
    "corpus = file.read()\n",
    "\n",
    "tokens = nltk.word_tokenize(corpus)\n",
    "extraction_end = datetime.now()\n",
    "\n",
    "extraction_time = dict()\n",
    "extraction_time['extraction_time'] = extraction_end - extraction_start\n",
    "print('extraction_time(HH::MM:SS:ms) - {}\\n\\n'.format(extraction_time['extraction_time']))"
   ]
  },
  {
   "cell_type": "code",
   "execution_count": null,
   "metadata": {},
   "outputs": [],
   "source": []
  }
 ],
 "metadata": {
  "kernelspec": {
   "display_name": "Python 3",
   "language": "python",
   "name": "python3"
  },
  "language_info": {
   "codemirror_mode": {
    "name": "ipython",
    "version": 3
   },
   "file_extension": ".py",
   "mimetype": "text/x-python",
   "name": "python",
   "nbconvert_exporter": "python",
   "pygments_lexer": "ipython3",
   "version": "3.8.5"
  }
 },
 "nbformat": 4,
 "nbformat_minor": 4
}
