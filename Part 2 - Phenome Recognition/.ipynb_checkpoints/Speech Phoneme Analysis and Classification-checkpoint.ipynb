{
 "cells": [
  {
   "cell_type": "markdown",
   "metadata": {},
   "source": [
    "# Speech Phoneme Analysis and Classification"
   ]
  },
  {
   "cell_type": "markdown",
   "metadata": {},
   "source": [
    "#### Francesca Maria Mizzi - 118201L\n",
    "#### B.Sc in IT (Honours) (Artificial Intelligence)\n",
    "#### ICS2203 - Natural Language Processing: Methods and Tools"
   ]
  },
  {
   "cell_type": "markdown",
   "metadata": {},
   "source": [
    "The assigned task consisted of two parts:\n",
    " 1. Feature Extraction\n",
    " 2. Classifier"
   ]
  },
  {
   "cell_type": "markdown",
   "metadata": {},
   "source": [
    "## 1 - Feature Extraction"
   ]
  },
  {
   "cell_type": "markdown",
   "metadata": {},
   "source": [
    "The product of the first task can be found in the csv file \"rawdata.csv\" which holds the below data of 150 different speakers pronouncing my chosen 3 words **heed, had, heard**:\n",
    "\n",
    " 1. SpeakerLabel - the name of the speaker\n",
    " 2. Gender - the gender of the speaker (F = Female, M = Male)\n",
    " 3. Word - the word spoken (heed, had or heard)\n",
    " 4. VowelPhoneme - the vowel phoneme for the word according to ARPABET notation (IY, AE, ER)\n",
    " 5. ClassNo - the number assigned to each vowel phoneme (1 = IY, 2 = AE, 3 = ER)\n",
    " 6. Time - the timestamp where the formant values were extracted from (seconds)\n",
    " 7. Formant1 - the frequency of the first formant in Hz\n",
    " 8. Formant2 - the frequency of the second formant in Hz\n",
    " 9. Formant3 - the frequency of the third formant in Hz\n",
    " \n",
    "The 5 different accents I chose to use are:\n",
    " 1. brm_001\n",
    " 2. eyk_001\n",
    " 3. lan_001\n",
    " 4. roi_001\n",
    " 5. sse_001\n",
    "\n",
    "From each of the 5 chosen accents, 10 speakers were selected, 5 female and 5 male, resulting in a total 150 rows.\n",
    "\n",
    "The 3 formants for each speaker were found using \"Praat\", a free application which allowed me to choose a specific section of the wav file and find the formants of each vowel, averaging the outputs for a final result.\n",
    "\n",
    "The csv file will then be used to create the dataset for the second part of the task."
   ]
  },
  {
   "cell_type": "markdown",
   "metadata": {},
   "source": [
    "## 2 - Classifier"
   ]
  },
  {
   "cell_type": "markdown",
   "metadata": {},
   "source": [
    "The second part of the task involved creating a simple k-Nearest Neighbour classifier that tries to determine what\n",
    "phoneme of speech is being analysed based on formant values.\n",
    "\n",
    "The first step is to import the necessary libraries in order to build the data classifier."
   ]
  },
  {
   "cell_type": "markdown",
   "metadata": {},
   "source": [
    "### Importing libraries"
   ]
  },
  {
   "cell_type": "code",
   "execution_count": 150,
   "metadata": {},
   "outputs": [],
   "source": [
    "import pandas as pd\n",
    "from sklearn.model_selection import train_test_split\n",
    "from sklearn.neighbors import NearestNeighbors\n",
    "from sklearn.model_selection import GridSearchCV\n",
    "from sklearn.model_selection import RandomizedSearchCV\n",
    "import matplotlib.pyplot as plt\n",
    "from datetime import datetime\n",
    "from sklearn import neighbors\n",
    "from sklearn import metrics\n",
    "import numpy as np\n",
    "import itertools"
   ]
  },
  {
   "cell_type": "markdown",
   "metadata": {},
   "source": [
    "### Reading dataset"
   ]
  },
  {
   "cell_type": "markdown",
   "metadata": {},
   "source": [
    "The dataset is then read using the pandas function read_csv(). The columns which are not being used (SpeakerLabel, Gender, Word, ClassNo and Time) are dropped from the dataframe since they are not necessary. The dataset is then printed in order to verify the appropriate columns have been dropped and the whole dataset has been imported."
   ]
  },
  {
   "cell_type": "code",
   "execution_count": 151,
   "metadata": {},
   "outputs": [
    {
     "name": "stdout",
     "output_type": "stream",
     "text": [
      "    VowelPhoneme     Formant1     Formant2     Formant3\n",
      "0             IY   444.623659  2809.593757  3389.504115\n",
      "1             AE  1000.117362  1785.756909  2933.149666\n",
      "2             ER   718.361613  1985.049514  3149.517110\n",
      "3             IY   593.824486  2738.706465  3328.840620\n",
      "4             AE   986.417708  1805.294539  3080.968468\n",
      "..           ...          ...          ...          ...\n",
      "145           AE   972.530188  1606.190042  2666.531726\n",
      "146           ER   585.249896  1669.221268  2612.789513\n",
      "147           IY   319.691652  2357.731836  2820.143564\n",
      "148           AE   796.434301  1538.121814  3139.960398\n",
      "149           ER   499.570359  1534.045916  3047.250635\n",
      "\n",
      "[150 rows x 4 columns]\n"
     ]
    }
   ],
   "source": [
    "dataset = pd.read_csv(\"rawdata.csv\")\n",
    "dataset = dataset.drop(['SpeakerLabel'], axis = 1)\n",
    "dataset = dataset.drop(['Gender'], axis = 1)\n",
    "dataset = dataset.drop(['Word'], axis = 1)\n",
    "dataset = dataset.drop(['ClassNo'], axis = 1)\n",
    "dataset = dataset.drop(['Time'], axis = 1)\n",
    "print(dataset)"
   ]
  },
  {
   "cell_type": "markdown",
   "metadata": {},
   "source": [
    "### Generating the train and test datasets"
   ]
  },
  {
   "cell_type": "markdown",
   "metadata": {},
   "source": [
    "A function was created in order to split the dataset into train and test. I tried to make my code as modular as possible in order to facilitate code reusability. \n",
    "\n",
    "Two variables where created in order to split the data for the prediction later on. data_matrix holds the values of the three formants wihtout the vowel phoneme label while data_labels holds only the vowel phoneme label. Both variables are then split into train and test variables using the sklearn method train_test_split(), specifying a test size of 25%."
   ]
  },
  {
   "cell_type": "code",
   "execution_count": 157,
   "metadata": {},
   "outputs": [],
   "source": [
    "def new_dataset():\n",
    "    data_matrix = dataset.drop(['VowelPhoneme'], axis = 1)\n",
    "    data_labels = dataset['VowelPhoneme']\n",
    "    x_train, x_test, y_train, y_test = train_test_split(data_matrix, data_labels, test_size=0.25, shuffle=True)\n",
    "    return x_train, x_test, y_train, y_test"
   ]
  },
  {
   "cell_type": "markdown",
   "metadata": {},
   "source": [
    "### Training the model"
   ]
  },
  {
   "cell_type": "markdown",
   "metadata": {},
   "source": [
    "The function train_model() was used in order to generate the model and predictions from the train and test datasets. \n",
    "\n",
    "The model is first fit with the train data, both the values as well as the label. The test data is then put into the model, generating the predictions from the model.\n",
    "\n",
    "The predictions are then passed into the meterics method confusion_matrix which generates the values for the matrix. The values of the generated matrix are then passed to the function plot_matrix() which does the visual plotting of the confusion matrix. The overall accuracy of the model is then generated using the metrics function accuracy_score() and the result is displayed to the user."
   ]
  },
  {
   "cell_type": "code",
   "execution_count": 159,
   "metadata": {},
   "outputs": [],
   "source": [
    "def train_model(model, data_train, label_train, data_test, label_test, class_labels, cm_normalize=True, print_cm=True, cm_map=plt.cm.Greens):\n",
    "    # to store results at various phases\n",
    "    results = dict()\n",
    "    \n",
    "    # time at which model starts training\n",
    "    print('Training KNN model..')\n",
    "    model.fit(data_train, label_train)\n",
    "    \n",
    "    # predict test data\n",
    "    print('Predicting test data...')\n",
    "    y_pred = model.predict(data_test)\n",
    "    test_end_time = datetime.now()\n",
    "    results['predicted'] = y_pred\n",
    "    \n",
    "    \n",
    "    # confusion matrix\n",
    "    print('Generating confusion matrix...')\n",
    "    cm = metrics.confusion_matrix(label_test, y_pred)\n",
    "    results['confusion_matrix'] = cm\n",
    "    if print_cm:\n",
    "        print('-----------------------')\n",
    "        print('CONFUSION MATRIX')\n",
    "        print('\\n {}'.format(cm))\n",
    "    \n",
    "    # plot confusion matrix\n",
    "    plt.figure(figsize=(8,8))\n",
    "    plt.grid(b=False)\n",
    "    plot_matrix(cm, classes=class_labels, normalize=True, title='Normalized Confusion Matrix', cmap=cm_map)\n",
    "    plt.show()\n",
    "    \n",
    "    # calculate overall accuracty of the model\n",
    "    print('Calculating accuracy...')\n",
    "    accuracy = metrics.accuracy_score(y_true=label_test, y_pred=y_pred)\n",
    "    # store accuracy in results\n",
    "    results['accuracy'] = accuracy\n",
    "    print('-----------------------')\n",
    "    print('ACCURACY')\n",
    "    print('\\n      {}\\n\\n'.format(accuracy))\n",
    "    \n",
    "    \n",
    "    # add the trained model to the results\n",
    "    results['model'] = model\n",
    "    \n",
    "    return results"
   ]
  },
  {
   "cell_type": "markdown",
   "metadata": {},
   "source": [
    "### Plotting the confusion matrix"
   ]
  },
  {
   "cell_type": "markdown",
   "metadata": {},
   "source": [
    "The plotting of the confusion matrix is done through the below method plot_matrix(). This funcion stores all the values and commands necessary to plot the visual representation of the confusion matrix, mainly through the use of the library matplotlib (plt)."
   ]
  },
  {
   "cell_type": "code",
   "execution_count": 160,
   "metadata": {},
   "outputs": [],
   "source": [
    "def plot_matrix(cm, classes, normalize=False, title='Confusion Matrix', cmap=plt.cm.Blues):\n",
    "    if normalize:\n",
    "        cm = cm.astype('float') / cm.sum(axis=1)[:, np.newaxis]\n",
    "    \n",
    "    plt.imshow(cm, interpolation='nearest', cmap='RdPu')\n",
    "    plt.title(title)\n",
    "    plt.colorbar()\n",
    "    tick_marks = np.arange(len(classes))\n",
    "    plt.xticks(tick_marks, classes, rotation=90)\n",
    "    plt.yticks(tick_marks, classes)\n",
    "    \n",
    "    fmt = '.2f' if normalize else 'd'\n",
    "    thresh = cm.max() / 2\n",
    "    \n",
    "    for i, j in itertools.product(range(cm.shape[0]), range(cm.shape[1])):\n",
    "        plt.text(j, i, format(cm[i, j], fmt), horizontalalignment=\"center\", color=\"white\" if cm[i, j] > thresh else \"black\")\n",
    "        \n",
    "    plt.tight_layout()\n",
    "    plt.ylabel('True Label')\n",
    "    plt.xlabel('Predicted Label')"
   ]
  },
  {
   "cell_type": "markdown",
   "metadata": {},
   "source": [
    "### Declaring a new model"
   ]
  },
  {
   "cell_type": "markdown",
   "metadata": {},
   "source": [
    "The below function new_trial() was used to tie together all the functions created above and make it very simple to create a new model while easily changing the number of k-neighbours. Firstly, new train and test datasets are generated using the function new_dataset(). Then, the parameters for the KNN classifier are defined with the number of neighbours being taken from the parameter of the function. A new kernel is then created using the class neighbors from the library sklearn. A KNN grid is then created from the parameters and kernel defined earlier using the GridSearchCV() function from the sklearn library. That grid is then passed to the train_model() function as well as all the train and test data. As specified earlier, the train_model() function makes use of the plot_matrix() function which plots the confusion matrix."
   ]
  },
  {
   "cell_type": "code",
   "execution_count": 161,
   "metadata": {},
   "outputs": [],
   "source": [
    "def new_trial(k):\n",
    "    data_train, data_test, label_train, label_test = new_dataset()\n",
    "    knn_params = {'n_neighbors':[k], 'weights': ['uniform','distance'], 'algorithm': ['ball_tree', 'kd_tree','brute']}\n",
    "    labels = ['IY', 'AE', 'ER']\n",
    "    knn_kernel = neighbors.KNeighborsClassifier()\n",
    "    knn_grid = GridSearchCV(knn_kernel, param_grid=knn_params, n_jobs=-1, verbose=1)\n",
    "    knn_grid_results = train_model(knn_grid, data_train, label_train, data_test, label_test,class_labels=labels)"
   ]
  },
  {
   "cell_type": "markdown",
   "metadata": {},
   "source": [
    "### Testing the model"
   ]
  },
  {
   "cell_type": "markdown",
   "metadata": {},
   "source": [
    "The model is then tested with different amount of k-neighbours as well as a different train and test as defined prior using the new_trial() function."
   ]
  },
  {
   "cell_type": "markdown",
   "metadata": {},
   "source": [
    "#### k = 3"
   ]
  },
  {
   "cell_type": "code",
   "execution_count": 164,
   "metadata": {},
   "outputs": [
    {
     "name": "stdout",
     "output_type": "stream",
     "text": [
      "Training KNN model..\n",
      "Fitting 5 folds for each of 6 candidates, totalling 30 fits\n",
      "Predicting test data...\n",
      "Generating confusion matrix...\n",
      "-----------------------\n",
      "CONFUSION MATRIX\n",
      "\n",
      " [[13  1  0]\n",
      " [ 3  7  0]\n",
      " [ 0  0 14]]\n"
     ]
    },
    {
     "name": "stderr",
     "output_type": "stream",
     "text": [
      "[Parallel(n_jobs=-1)]: Using backend LokyBackend with 16 concurrent workers.\n",
      "[Parallel(n_jobs=-1)]: Done  30 out of  30 | elapsed:    0.0s remaining:    0.0s\n",
      "[Parallel(n_jobs=-1)]: Done  30 out of  30 | elapsed:    0.0s finished\n"
     ]
    },
    {
     "data": {
      "image/png": "[encoded data removed]",
      "text/plain": [
       "<Figure size 576x576 with 2 Axes>"
      ]
     },
     "metadata": {
      "needs_background": "light"
     },
     "output_type": "display_data"
    },
    {
     "name": "stdout",
     "output_type": "stream",
     "text": [
      "Calculating accuracy...\n",
      "-----------------------\n",
      "ACCURACY\n",
      "\n",
      "      0.8947368421052632\n",
      "\n",
      "\n"
     ]
    }
   ],
   "source": [
    "new_trial(3)"
   ]
  },
  {
   "cell_type": "markdown",
   "metadata": {},
   "source": [
    "#### k = 4"
   ]
  },
  {
   "cell_type": "code",
   "execution_count": 165,
   "metadata": {},
   "outputs": [
    {
     "name": "stdout",
     "output_type": "stream",
     "text": [
      "Training KNN model..\n",
      "Fitting 5 folds for each of 6 candidates, totalling 30 fits\n",
      "Predicting test data...\n",
      "Generating confusion matrix...\n",
      "-----------------------\n",
      "CONFUSION MATRIX\n",
      "\n",
      " [[14  1  0]\n",
      " [ 2  9  0]\n",
      " [ 0  1 11]]\n"
     ]
    },
    {
     "name": "stderr",
     "output_type": "stream",
     "text": [
      "[Parallel(n_jobs=-1)]: Using backend LokyBackend with 16 concurrent workers.\n",
      "[Parallel(n_jobs=-1)]: Done  30 out of  30 | elapsed:    0.0s remaining:    0.0s\n",
      "[Parallel(n_jobs=-1)]: Done  30 out of  30 | elapsed:    0.0s finished\n"
     ]
    },
    {
     "data": {
      "image/png": "[encoded data removed]",
      "text/plain": [
       "<Figure size 576x576 with 2 Axes>"
      ]
     },
     "metadata": {
      "needs_background": "light"
     },
     "output_type": "display_data"
    },
    {
     "name": "stdout",
     "output_type": "stream",
     "text": [
      "Calculating accuracy...\n",
      "-----------------------\n",
      "ACCURACY\n",
      "\n",
      "      0.8947368421052632\n",
      "\n",
      "\n"
     ]
    }
   ],
   "source": [
    "new_trial(4)"
   ]
  },
  {
   "cell_type": "markdown",
   "metadata": {},
   "source": [
    "#### k = 5"
   ]
  },
  {
   "cell_type": "code",
   "execution_count": 170,
   "metadata": {},
   "outputs": [
    {
     "name": "stdout",
     "output_type": "stream",
     "text": [
      "Training KNN model..\n",
      "Fitting 5 folds for each of 6 candidates, totalling 30 fits\n",
      "Predicting test data...\n",
      "Generating confusion matrix...\n",
      "-----------------------\n",
      "CONFUSION MATRIX\n",
      "\n",
      " [[ 9  0  0]\n",
      " [ 1 13  0]\n",
      " [ 0  0 15]]\n"
     ]
    },
    {
     "name": "stderr",
     "output_type": "stream",
     "text": [
      "[Parallel(n_jobs=-1)]: Using backend LokyBackend with 16 concurrent workers.\n",
      "[Parallel(n_jobs=-1)]: Done  30 out of  30 | elapsed:    0.0s remaining:    0.0s\n",
      "[Parallel(n_jobs=-1)]: Done  30 out of  30 | elapsed:    0.0s finished\n"
     ]
    },
    {
     "data": {
      "image/png": "[encoded data removed]",
      "text/plain": [
       "<Figure size 576x576 with 2 Axes>"
      ]
     },
     "metadata": {
      "needs_background": "light"
     },
     "output_type": "display_data"
    },
    {
     "name": "stdout",
     "output_type": "stream",
     "text": [
      "Calculating accuracy...\n",
      "-----------------------\n",
      "ACCURACY\n",
      "\n",
      "      0.9736842105263158\n",
      "\n",
      "\n"
     ]
    }
   ],
   "source": [
    "new_trial(5)"
   ]
  },
  {
   "cell_type": "markdown",
   "metadata": {},
   "source": [
    "#### k = 6"
   ]
  },
  {
   "cell_type": "code",
   "execution_count": 167,
   "metadata": {},
   "outputs": [
    {
     "name": "stdout",
     "output_type": "stream",
     "text": [
      "Training KNN model..\n",
      "Fitting 5 folds for each of 6 candidates, totalling 30 fits\n",
      "Predicting test data...\n",
      "Generating confusion matrix...\n",
      "-----------------------\n",
      "CONFUSION MATRIX\n",
      "\n",
      " [[12  1  0]\n",
      " [ 1 11  0]\n",
      " [ 0  1 12]]\n"
     ]
    },
    {
     "name": "stderr",
     "output_type": "stream",
     "text": [
      "[Parallel(n_jobs=-1)]: Using backend LokyBackend with 16 concurrent workers.\n",
      "[Parallel(n_jobs=-1)]: Done  30 out of  30 | elapsed:    0.0s remaining:    0.0s\n",
      "[Parallel(n_jobs=-1)]: Done  30 out of  30 | elapsed:    0.0s finished\n"
     ]
    },
    {
     "data": {
      "image/png": "[encoded data removed]",
      "text/plain": [
       "<Figure size 576x576 with 2 Axes>"
      ]
     },
     "metadata": {
      "needs_background": "light"
     },
     "output_type": "display_data"
    },
    {
     "name": "stdout",
     "output_type": "stream",
     "text": [
      "Calculating accuracy...\n",
      "-----------------------\n",
      "ACCURACY\n",
      "\n",
      "      0.9210526315789473\n",
      "\n",
      "\n"
     ]
    }
   ],
   "source": [
    "new_trial(6)"
   ]
  },
  {
   "cell_type": "markdown",
   "metadata": {},
   "source": [
    "#### k = 7"
   ]
  },
  {
   "cell_type": "code",
   "execution_count": 171,
   "metadata": {},
   "outputs": [
    {
     "name": "stdout",
     "output_type": "stream",
     "text": [
      "Training KNN model..\n",
      "Fitting 5 folds for each of 6 candidates, totalling 30 fits\n",
      "Predicting test data...\n",
      "Generating confusion matrix...\n",
      "-----------------------\n",
      "CONFUSION MATRIX\n",
      "\n",
      " [[15  0  0]\n",
      " [ 2 10  0]\n",
      " [ 0  0 11]]\n"
     ]
    },
    {
     "name": "stderr",
     "output_type": "stream",
     "text": [
      "[Parallel(n_jobs=-1)]: Using backend LokyBackend with 16 concurrent workers.\n",
      "[Parallel(n_jobs=-1)]: Done  30 out of  30 | elapsed:    0.0s remaining:    0.0s\n",
      "[Parallel(n_jobs=-1)]: Done  30 out of  30 | elapsed:    0.0s finished\n"
     ]
    },
    {
     "data": {
      "image/png": "[encoded data removed]",
      "text/plain": [
       "<Figure size 576x576 with 2 Axes>"
      ]
     },
     "metadata": {
      "needs_background": "light"
     },
     "output_type": "display_data"
    },
    {
     "name": "stdout",
     "output_type": "stream",
     "text": [
      "Calculating accuracy...\n",
      "-----------------------\n",
      "ACCURACY\n",
      "\n",
      "      0.9473684210526315\n",
      "\n",
      "\n"
     ]
    }
   ],
   "source": [
    "new_trial(7)"
   ]
  },
  {
   "cell_type": "markdown",
   "metadata": {},
   "source": [
    "### Results"
   ]
  },
  {
   "cell_type": "markdown",
   "metadata": {},
   "source": [
    "The accuracy results of the 5 tests are as follows:\n",
    "\n",
    "|K-value|Accuracy|\n",
    "|------|------|\n",
    "|3     |89.47%|\n",
    "|4     |89.47%|\n",
    "|5     |97.37%|\n",
    "|6     |92.11%|\n",
    "|7     |94.74%|\n",
    "\n",
    "As can be seen from the above the table, the best number of K-neighbours is 5, generating a model with an accuracy of 97.37%."
   ]
  },
  {
   "cell_type": "markdown",
   "metadata": {},
   "source": [
    "### Investigation"
   ]
  },
  {
   "cell_type": "markdown",
   "metadata": {},
   "source": [
    "#### 1 - How does performance change with different values of K? "
   ]
  },
  {
   "cell_type": "markdown",
   "metadata": {},
   "source": [
    "#### 2 - What distance metric did you use? Tried any others?"
   ]
  },
  {
   "cell_type": "markdown",
   "metadata": {},
   "source": [
    "#### 3 - How does performance change when classification is done one data for a single gender alone, or when data from both genders are put together?"
   ]
  },
  {
   "cell_type": "markdown",
   "metadata": {},
   "source": [
    "#### 4 - What are the vowel-based phonemes that produce the most confusion (base this off your confusion matrix)?"
   ]
  }
 ],
 "metadata": {
  "kernelspec": {
   "display_name": "Python 3",
   "language": "python",
   "name": "python3"
  },
  "language_info": {
   "codemirror_mode": {
    "name": "ipython",
    "version": 3
   },
   "file_extension": ".py",
   "mimetype": "text/x-python",
   "name": "python",
   "nbconvert_exporter": "python",
   "pygments_lexer": "ipython3",
   "version": "3.8.5"
  }
 },
 "nbformat": 4,
 "nbformat_minor": 4
}
